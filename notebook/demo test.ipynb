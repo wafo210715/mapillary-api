{
 "cells": [
  {
   "cell_type": "code",
   "execution_count": 1,
   "id": "dd75609a-66ef-4e6f-8297-b318a8eb85cb",
   "metadata": {},
   "outputs": [],
   "source": [
    "import requests\n",
    "import json\n",
    "\n",
    "url = 'https://graph.mapillary.com/token'\n",
    "# 请求头\n",
    "headers = {\n",
    "    'Content-Type': 'application/json',\n",
    "    'Authorization': 'OAuth MLY|26242695162043863|b19a34f00f5d3ceb2cd7711600a1be8e'\n",
    "    # Authorization--对应我们注册application的Client secret\n",
    "}\n",
    "# post请求发送的数据\n",
    "data = {\n",
    "    'grant_type': \"authorization_code\",\n",
    "    'client_id': 26242695162043863,\n",
    "    #client_id--对应我们注册application的Client ID - 这里就是授权代码\n",
    "    'code':'AQARfNP6Rruw0wQpt8NDuKp7SGuZWlylpuhmx0hlAVPIAj9Kv2cpOWSB0U8otfIFZJ-INb0ttcp-UFXC8X_b0-GBn4BQIRDMN8TsDXtDYLJ2o9EHQQfMcbVo7Z3zq1kYcHbgKtKGUNqW_NNFmub9bKDPU3QW9_wawxxEo9AlCsi6k10KQn5LtoCBNilomtlxBhtnExrhUk-UJLH7D-VlYubYGEeW4s3mL1wdOF1Y7GjZvhyOnVj-HZk2ck1Ka7Xnsl9pdEDQBw7ETxAKwYOvH2DDzL3j8vKNFgAWc8R9g3D5zQ'\n",
    "\t#code--授权代码\n",
    "}\n",
    "\n",
    "r = requests.post(url=url,data=data,headers=headers)\n",
    "response_data = json.loads(r.text)\n",
    "\n",
    "# Extract the access token\n",
    "access_token = response_data['access_token']"
   ]
  },
  {
   "cell_type": "code",
   "execution_count": 2,
   "id": "32d4a929-d4e0-4947-a9ad-5391b07ba4cb",
   "metadata": {},
   "outputs": [
    {
     "name": "stdout",
     "output_type": "stream",
     "text": [
      "ok\n"
     ]
    }
   ],
   "source": [
    "# 基于图像id获取图像元数据\n",
    "import requests\n",
    "import json\n",
    "# 访问令牌\n",
    "\n",
    "# 该图像是英国街景的image_key\n",
    "image_id = '3670287913191207'\n",
    "\n",
    "# 获取图像元数据所有字段\n",
    "url = 'https://graph.mapillary.com/{}?access_token={}&fields=altitude,atomic_scale,camera_parameters,camera_type,compass_angle,computed_altitude,computed_compass_angle,id,computed_geometry,thumb_256_url,thumb_1024_url,thumb_2048_url,thumb_original_url,sequence,mesh,sfm_cluster'.format(image_id,access_token)\n",
    "\n",
    "# 返回值是json对象\n",
    "r = requests.get(url=url)\n",
    "\n",
    "# 把元数据保存成json格式\n",
    "with open('uk.json', 'w') as f:\n",
    "    json.dump(r.json(),f)\n",
    "print('ok')"
   ]
  },
  {
   "cell_type": "code",
   "execution_count": 3,
   "id": "359e63f6-f3fb-44f6-aa0f-9968387c7039",
   "metadata": {},
   "outputs": [
    {
     "name": "stdout",
     "output_type": "stream",
     "text": [
      "[Tile(x=8414, y=5383, z=14), Tile(x=8414, y=5384, z=14), Tile(x=8414, y=5385, z=14), Tile(x=8415, y=5383, z=14), Tile(x=8415, y=5384, z=14), Tile(x=8415, y=5385, z=14)]\n"
     ]
    }
   ],
   "source": [
    "import mercantile\n",
    "\n",
    "# amsterdan,经纬度问gpt\n",
    "west, south, east, north = [4.8896, 52.3576, 4.9186, 52.3776]\n",
    "tiles = list(mercantile.tiles(west, south, east, north, 14))\n",
    "print(tiles)"
   ]
  },
  {
   "cell_type": "code",
   "execution_count": 4,
   "id": "2fb75f4b-8048-4556-af7c-050648b8cf42",
   "metadata": {},
   "outputs": [],
   "source": [
    "import json\n",
    "import requests\n",
    "from vt2geojson.tools import vt_bytes_to_geojson\n",
    "import os"
   ]
  },
  {
   "cell_type": "code",
   "execution_count": 5,
   "id": "000b5007-30d8-4646-8e1f-2fce972250f4",
   "metadata": {},
   "outputs": [
    {
     "name": "stdout",
     "output_type": "stream",
     "text": [
      "保存成功！\n"
     ]
    }
   ],
   "source": [
    "num = 1\n",
    "# 这里的变量tiles是第一部分中得到的\n",
    "for tile in tiles:\n",
    "\t# 构造url\n",
    "\ttile_url = 'https://tiles.mapillary.com/maps/vtp/mly1_public/2/{}/{}/{}?access_token={}'.format(tile.z,tile.x,tile.y,access_token)\n",
    "\t# 发GET请求\n",
    "\tresponse = requests.get(tile_url)\n",
    "\t# response.content是二进制字节\n",
    "\t# vt_bytes_to_geojson() 基于矢量瓦片的字节创建GeoJSON\n",
    "\t\t# 参数一:瓦片内容，字节类型\n",
    "\t\t# 参数二:瓦片X坐标，int\n",
    "\t\t# 参数三:瓦片Y坐标，int\n",
    "\t\t# 参数四:瓦片Z坐标，int\n",
    "\t\t# 参数五：瓦片图层的类型\n",
    "data = vt_bytes_to_geojson(response.content, tile.x, tile.y, tile.z,layer=\"image\")\n",
    "data = json.dumps(data,indent=4)\n",
    "    # 将数据保存为json格式\n",
    "with open(f'{num}.json','w') as f:\n",
    "    f.write(data)\n",
    "print('保存成功！')\n",
    "num = num+1"
   ]
  },
  {
   "cell_type": "code",
   "execution_count": null,
   "id": "9baed16d-a755-4b1b-b1b9-05b7c9f67250",
   "metadata": {},
   "outputs": [],
   "source": []
  }
 ],
 "metadata": {
  "kernelspec": {
   "display_name": "mapillary",
   "language": "python",
   "name": "mapillary"
  },
  "language_info": {
   "codemirror_mode": {
    "name": "ipython",
    "version": 3
   },
   "file_extension": ".py",
   "mimetype": "text/x-python",
   "name": "python",
   "nbconvert_exporter": "python",
   "pygments_lexer": "ipython3",
   "version": "3.12.7"
  }
 },
 "nbformat": 4,
 "nbformat_minor": 5
}
